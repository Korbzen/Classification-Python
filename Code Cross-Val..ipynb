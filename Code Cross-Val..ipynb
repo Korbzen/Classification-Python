{
 "cells": [
  {
   "cell_type": "markdown",
   "metadata": {},
   "source": [
    "# Demonstration der Aufteilung"
   ]
  },
  {
   "cell_type": "code",
   "execution_count": 9,
   "metadata": {},
   "outputs": [
    {
     "data": {
      "text/html": [
       "<div>\n",
       "<style scoped>\n",
       "    .dataframe tbody tr th:only-of-type {\n",
       "        vertical-align: middle;\n",
       "    }\n",
       "\n",
       "    .dataframe tbody tr th {\n",
       "        vertical-align: top;\n",
       "    }\n",
       "\n",
       "    .dataframe thead th {\n",
       "        text-align: right;\n",
       "    }\n",
       "</style>\n",
       "<table border=\"1\" class=\"dataframe\">\n",
       "  <thead>\n",
       "    <tr style=\"text-align: right;\">\n",
       "      <th></th>\n",
       "      <th>Gewinn</th>\n",
       "      <th>Preis in Mio</th>\n",
       "      <th>Quadratmeter</th>\n",
       "      <th>Stadt</th>\n",
       "    </tr>\n",
       "  </thead>\n",
       "  <tbody>\n",
       "    <tr>\n",
       "      <td>0</td>\n",
       "      <td>119000.0</td>\n",
       "      <td>21.88</td>\n",
       "      <td>3938.0</td>\n",
       "      <td>Berlin</td>\n",
       "    </tr>\n",
       "    <tr>\n",
       "      <td>1</td>\n",
       "      <td>250000.0</td>\n",
       "      <td>27.95</td>\n",
       "      <td>3986.0</td>\n",
       "      <td>München</td>\n",
       "    </tr>\n",
       "    <tr>\n",
       "      <td>2</td>\n",
       "      <td>250000.0</td>\n",
       "      <td>16.09</td>\n",
       "      <td>2574.0</td>\n",
       "      <td>Köln</td>\n",
       "    </tr>\n",
       "    <tr>\n",
       "      <td>3</td>\n",
       "      <td>145000.0</td>\n",
       "      <td>27.58</td>\n",
       "      <td>4155.0</td>\n",
       "      <td>München</td>\n",
       "    </tr>\n",
       "    <tr>\n",
       "      <td>4</td>\n",
       "      <td>110000.0</td>\n",
       "      <td>23.76</td>\n",
       "      <td>3795.0</td>\n",
       "      <td>Berlin</td>\n",
       "    </tr>\n",
       "    <tr>\n",
       "      <td>5</td>\n",
       "      <td>246000.0</td>\n",
       "      <td>22.88</td>\n",
       "      <td>2773.0</td>\n",
       "      <td>München</td>\n",
       "    </tr>\n",
       "  </tbody>\n",
       "</table>\n",
       "</div>"
      ],
      "text/plain": [
       "     Gewinn  Preis in Mio  Quadratmeter    Stadt\n",
       "0  119000.0         21.88        3938.0   Berlin\n",
       "1  250000.0         27.95        3986.0  München\n",
       "2  250000.0         16.09        2574.0     Köln\n",
       "3  145000.0         27.58        4155.0  München\n",
       "4  110000.0         23.76        3795.0   Berlin\n",
       "5  246000.0         22.88        2773.0  München"
      ]
     },
     "execution_count": 9,
     "metadata": {},
     "output_type": "execute_result"
    }
   ],
   "source": [
    "import pandas as pd\n",
    "\n",
    "df = pd.read_csv(\"./hotels.csv\")[:6]\n",
    "\n",
    "df"
   ]
  },
  {
   "cell_type": "code",
   "execution_count": 10,
   "metadata": {},
   "outputs": [],
   "source": [
    "X = df[[\"Gewinn\", \"Quadratmeter\"]].values\n",
    "Y = df[[\"Preis in Mio\"]].values"
   ]
  },
  {
   "cell_type": "code",
   "execution_count": 11,
   "metadata": {},
   "outputs": [
    {
     "name": "stdout",
     "output_type": "stream",
     "text": [
      "train: [2 3 4 5]\n",
      "test: [0 1]\n",
      "-----------\n",
      "-0.23437406150775944\n",
      "train: [0 1 4 5]\n",
      "test: [2 3]\n",
      "-----------\n",
      "0.28817502863345124\n",
      "train: [0 1 2 3]\n",
      "test: [4 5]\n",
      "-----------\n",
      "-87.19441129592327\n"
     ]
    },
    {
     "name": "stderr",
     "output_type": "stream",
     "text": [
      "C:\\Users\\schic\\Anaconda3\\lib\\site-packages\\sklearn\\model_selection\\_split.py:431: FutureWarning: The default value of n_split will change from 3 to 5 in version 0.22. Specify it explicitly to silence this warning.\n",
      "  warnings.warn(NSPLIT_WARNING, FutureWarning)\n"
     ]
    }
   ],
   "source": [
    "from sklearn.model_selection import KFold\n",
    "from sklearn.linear_model import LinearRegression\n",
    "\n",
    "kf = KFold()\n",
    "\n",
    "for train_index, test_index in kf.split(X):\n",
    "    print(\"train: \" + str(train_index))\n",
    "    print(\"test: \" + str(test_index))\n",
    "    print(\"-----------\")\n",
    "    X_test = X[test_index]\n",
    "    X_train = X[train_index]\n",
    "    \n",
    "    y_test = Y[test_index]\n",
    "    y_train = Y[train_index]\n",
    "    \n",
    "    model = LinearRegression()\n",
    "    model.fit(X_train, y_train)\n",
    "    \n",
    "    print(model.score(X_test, y_test))\n"
   ]
  },
  {
   "cell_type": "markdown",
   "metadata": {},
   "source": [
    "# Demonstration Shuffle und n_splits"
   ]
  },
  {
   "cell_type": "code",
   "execution_count": 13,
   "metadata": {},
   "outputs": [
    {
     "data": {
      "text/html": [
       "<div>\n",
       "<style scoped>\n",
       "    .dataframe tbody tr th:only-of-type {\n",
       "        vertical-align: middle;\n",
       "    }\n",
       "\n",
       "    .dataframe tbody tr th {\n",
       "        vertical-align: top;\n",
       "    }\n",
       "\n",
       "    .dataframe thead th {\n",
       "        text-align: right;\n",
       "    }\n",
       "</style>\n",
       "<table border=\"1\" class=\"dataframe\">\n",
       "  <thead>\n",
       "    <tr style=\"text-align: right;\">\n",
       "      <th></th>\n",
       "      <th>Gewinn</th>\n",
       "      <th>Preis in Mio</th>\n",
       "      <th>Quadratmeter</th>\n",
       "      <th>Stadt</th>\n",
       "    </tr>\n",
       "  </thead>\n",
       "  <tbody>\n",
       "    <tr>\n",
       "      <td>0</td>\n",
       "      <td>119000.0</td>\n",
       "      <td>21.88</td>\n",
       "      <td>3938.0</td>\n",
       "      <td>Berlin</td>\n",
       "    </tr>\n",
       "    <tr>\n",
       "      <td>81</td>\n",
       "      <td>25000.0</td>\n",
       "      <td>9.07</td>\n",
       "      <td>1002.0</td>\n",
       "      <td>Berlin</td>\n",
       "    </tr>\n",
       "    <tr>\n",
       "      <td>80</td>\n",
       "      <td>124000.0</td>\n",
       "      <td>26.31</td>\n",
       "      <td>5201.0</td>\n",
       "      <td>Berlin</td>\n",
       "    </tr>\n",
       "    <tr>\n",
       "      <td>77</td>\n",
       "      <td>64000.0</td>\n",
       "      <td>14.90</td>\n",
       "      <td>2220.0</td>\n",
       "      <td>Berlin</td>\n",
       "    </tr>\n",
       "    <tr>\n",
       "      <td>148</td>\n",
       "      <td>35000.0</td>\n",
       "      <td>15.80</td>\n",
       "      <td>2281.0</td>\n",
       "      <td>Berlin</td>\n",
       "    </tr>\n",
       "    <tr>\n",
       "      <td>...</td>\n",
       "      <td>...</td>\n",
       "      <td>...</td>\n",
       "      <td>...</td>\n",
       "      <td>...</td>\n",
       "    </tr>\n",
       "    <tr>\n",
       "      <td>115</td>\n",
       "      <td>76000.0</td>\n",
       "      <td>18.78</td>\n",
       "      <td>2186.0</td>\n",
       "      <td>München</td>\n",
       "    </tr>\n",
       "    <tr>\n",
       "      <td>82</td>\n",
       "      <td>58000.0</td>\n",
       "      <td>19.93</td>\n",
       "      <td>3306.0</td>\n",
       "      <td>München</td>\n",
       "    </tr>\n",
       "    <tr>\n",
       "      <td>117</td>\n",
       "      <td>33000.0</td>\n",
       "      <td>16.04</td>\n",
       "      <td>1505.0</td>\n",
       "      <td>München</td>\n",
       "    </tr>\n",
       "    <tr>\n",
       "      <td>13</td>\n",
       "      <td>62000.0</td>\n",
       "      <td>17.08</td>\n",
       "      <td>1941.0</td>\n",
       "      <td>München</td>\n",
       "    </tr>\n",
       "    <tr>\n",
       "      <td>93</td>\n",
       "      <td>62000.0</td>\n",
       "      <td>16.15</td>\n",
       "      <td>1799.0</td>\n",
       "      <td>München</td>\n",
       "    </tr>\n",
       "  </tbody>\n",
       "</table>\n",
       "<p>150 rows × 4 columns</p>\n",
       "</div>"
      ],
      "text/plain": [
       "       Gewinn  Preis in Mio  Quadratmeter    Stadt\n",
       "0    119000.0         21.88        3938.0   Berlin\n",
       "81    25000.0          9.07        1002.0   Berlin\n",
       "80   124000.0         26.31        5201.0   Berlin\n",
       "77    64000.0         14.90        2220.0   Berlin\n",
       "148   35000.0         15.80        2281.0   Berlin\n",
       "..        ...           ...           ...      ...\n",
       "115   76000.0         18.78        2186.0  München\n",
       "82    58000.0         19.93        3306.0  München\n",
       "117   33000.0         16.04        1505.0  München\n",
       "13    62000.0         17.08        1941.0  München\n",
       "93    62000.0         16.15        1799.0  München\n",
       "\n",
       "[150 rows x 4 columns]"
      ]
     },
     "execution_count": 13,
     "metadata": {},
     "output_type": "execute_result"
    }
   ],
   "source": [
    "import pandas as pd\n",
    "\n",
    "df = pd.read_csv(\"./hotels.csv\")\n",
    "\n",
    "df.sort_values(\"Stadt\")"
   ]
  },
  {
   "cell_type": "code",
   "execution_count": 14,
   "metadata": {},
   "outputs": [],
   "source": [
    "X = df[[\"Gewinn\", \"Quadratmeter\"]].values\n",
    "Y = df[[\"Preis in Mio\"]].values"
   ]
  },
  {
   "cell_type": "code",
   "execution_count": 15,
   "metadata": {},
   "outputs": [
    {
     "name": "stdout",
     "output_type": "stream",
     "text": [
      "train: [  0   1   2   3   6   7   8   9  11  13  16  17  18  19  20  21  22  23\n",
      "  24  26  27  28  29  30  31  32  33  35  37  38  39  40  42  43  44  45\n",
      "  47  48  49  50  51  53  54  55  58  59  60  61  62  63  64  65  67  69\n",
      "  70  71  72  73  75  76  77  78  80  81  82  83  84  85  86  87  88  89\n",
      "  91  92  94  95  96  99 101 103 107 108 109 110 112 114 116 117 120 121\n",
      " 122 123 124 126 127 128 129 130 131 132 133 134 137 139 140 141 143 144\n",
      " 145 146 148 149]\n",
      "test: [  4   5  10  12  14  15  25  34  36  41  46  52  56  57  66  68  74  79\n",
      "  90  93  97  98 100 102 104 105 106 111 113 115 118 119 125 135 136 138\n",
      " 142 147]\n",
      "-----------\n",
      "0.8217555873813684\n",
      "train: [  0   1   2   3   4   5   6   7   8   9  10  12  14  15  16  17  19  20\n",
      "  21  25  26  27  28  32  33  34  35  36  38  39  40  41  44  45  46  48\n",
      "  49  50  51  52  53  54  56  57  59  61  62  65  66  67  68  69  70  71\n",
      "  72  73  74  78  79  80  81  82  85  86  87  88  89  90  91  92  93  94\n",
      "  96  97  98 100 102 104 105 106 107 109 110 111 113 114 115 116 118 119\n",
      " 121 122 124 125 127 130 131 133 134 135 136 137 138 139 140 141 142 143\n",
      " 144 146 147 149]\n",
      "test: [ 11  13  18  22  23  24  29  30  31  37  42  43  47  55  58  60  63  64\n",
      "  75  76  77  83  84  95  99 101 103 108 112 117 120 123 126 128 129 132\n",
      " 145 148]\n",
      "-----------\n",
      "0.8188445754863461\n",
      "train: [  0   3   4   5   8  10  11  12  13  14  15  18  20  21  22  23  24  25\n",
      "  26  27  28  29  30  31  33  34  35  36  37  40  41  42  43  45  46  47\n",
      "  48  52  54  55  56  57  58  60  62  63  64  65  66  68  70  72  74  75\n",
      "  76  77  79  82  83  84  85  86  87  88  89  90  91  93  94  95  96  97\n",
      "  98  99 100 101 102 103 104 105 106 107 108 111 112 113 114 115 117 118\n",
      " 119 120 121 123 125 126 127 128 129 131 132 133 134 135 136 138 139 141\n",
      " 142 144 145 147 148]\n",
      "test: [  1   2   6   7   9  16  17  19  32  38  39  44  49  50  51  53  59  61\n",
      "  67  69  71  73  78  80  81  92 109 110 116 122 124 130 137 140 143 146\n",
      " 149]\n",
      "-----------\n",
      "0.8455847259522423\n",
      "train: [  1   2   4   5   6   7   9  10  11  12  13  14  15  16  17  18  19  22\n",
      "  23  24  25  29  30  31  32  34  36  37  38  39  41  42  43  44  46  47\n",
      "  49  50  51  52  53  55  56  57  58  59  60  61  63  64  66  67  68  69\n",
      "  71  73  74  75  76  77  78  79  80  81  83  84  90  92  93  95  97  98\n",
      "  99 100 101 102 103 104 105 106 108 109 110 111 112 113 115 116 117 118\n",
      " 119 120 122 123 124 125 126 128 129 130 132 135 136 137 138 140 142 143\n",
      " 145 146 147 148 149]\n",
      "test: [  0   3   8  20  21  26  27  28  33  35  40  45  48  54  62  65  70  72\n",
      "  82  85  86  87  88  89  91  94  96 107 114 121 127 131 133 134 139 141\n",
      " 144]\n",
      "-----------\n",
      "0.8232271542140287\n"
     ]
    }
   ],
   "source": [
    "from sklearn.model_selection import KFold\n",
    "from sklearn.linear_model import LinearRegression\n",
    "\n",
    "kf = KFold(n_splits = 4, shuffle = True)\n",
    "\n",
    "for train_index, test_index in kf.split(X):\n",
    "    print(\"train: \" + str(train_index))\n",
    "    print(\"test: \" + str(test_index))\n",
    "    print(\"-----------\")\n",
    "    X_test = X[test_index]\n",
    "    X_train = X[train_index]\n",
    "    \n",
    "    y_test = Y[test_index]\n",
    "    y_train = Y[train_index]\n",
    "    \n",
    "    # Lineare Regression trainieren\n",
    "    model = LinearRegression()\n",
    "    model.fit(X_train, y_train)\n",
    "\n",
    "    print(model.score(X_test, y_test))"
   ]
  },
  {
   "cell_type": "markdown",
   "metadata": {},
   "source": [
    "# Kurzschreibweise"
   ]
  },
  {
   "cell_type": "code",
   "execution_count": 16,
   "metadata": {},
   "outputs": [
    {
     "name": "stdout",
     "output_type": "stream",
     "text": [
      "[0.65017794 0.64157437 0.7682274  0.75577885 0.81121291 0.87869648\n",
      " 0.82420155 0.82443676 0.89919227 0.92067196]\n",
      "0.7974170485910209\n"
     ]
    }
   ],
   "source": [
    "from sklearn.linear_model import LinearRegression\n",
    "from sklearn.model_selection import cross_val_score\n",
    "from sklearn.model_selection import KFold\n",
    "\n",
    "import numpy as np\n",
    "\n",
    "scores = cross_val_score(LinearRegression(), X, Y, cv = KFold(n_splits = 10))\n",
    "\n",
    "print(scores)\n",
    "print(np.mean(scores))"
   ]
  },
  {
   "cell_type": "markdown",
   "metadata": {},
   "source": [
    "# Zusatz: Repeated K-Fold Cross-Validation"
   ]
  },
  {
   "cell_type": "code",
   "execution_count": null,
   "metadata": {},
   "outputs": [],
   "source": [
    "from sklearn.linear_model import LinearRegression\n",
    "from sklearn.model_selection import cross_val_score\n",
    "from sklearn.model_selection import RepeatedKFold\n",
    "\n",
    "import numpy as np\n",
    "\n",
    "scores = cross_val_score(LinearRegression(), X, Y, cv = RepeatedKFold(n_repeats = 1000))\n",
    "\n",
    "print(scores)\n",
    "print(np.mean(scores))"
   ]
  }
 ],
 "metadata": {
  "kernelspec": {
   "display_name": "Python 3",
   "language": "python",
   "name": "python3"
  },
  "language_info": {
   "codemirror_mode": {
    "name": "ipython",
    "version": 3
   },
   "file_extension": ".py",
   "mimetype": "text/x-python",
   "name": "python",
   "nbconvert_exporter": "python",
   "pygments_lexer": "ipython3",
   "version": "3.7.4"
  }
 },
 "nbformat": 4,
 "nbformat_minor": 2
}
